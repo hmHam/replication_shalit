{
 "cells": [
  {
   "cell_type": "code",
   "execution_count": 7,
   "id": "a3a27ef1-3d8a-4bc4-b36c-9770af91a328",
   "metadata": {},
   "outputs": [],
   "source": [
    "import pandas as pd\n",
    "import numpy as np\n",
    "from dowhy import CausalModel\n",
    "from IPython.display import Image, display\n",
    "from sklearn.model_selection import train_test_split\n",
    "from sklearn.linear_model import LassoCV\n",
    "from econml.dml import CausalForestDML"
   ]
  },
  {
   "cell_type": "code",
   "execution_count": 2,
   "id": "05172005-d520-4f89-84dc-555fbb5ac364",
   "metadata": {},
   "outputs": [
    {
     "name": "stdout",
     "output_type": "stream",
     "text": [
      "estimate of E[Y|Z = 1] - E[Y|Z = 0] =  0.31055284465722865\n"
     ]
    },
    {
     "data": {
      "text/html": [
       "<div>\n",
       "<style scoped>\n",
       "    .dataframe tbody tr th:only-of-type {\n",
       "        vertical-align: middle;\n",
       "    }\n",
       "\n",
       "    .dataframe tbody tr th {\n",
       "        vertical-align: top;\n",
       "    }\n",
       "\n",
       "    .dataframe thead th {\n",
       "        text-align: right;\n",
       "    }\n",
       "</style>\n",
       "<table border=\"1\" class=\"dataframe\">\n",
       "  <thead>\n",
       "    <tr style=\"text-align: right;\">\n",
       "      <th></th>\n",
       "      <th>x0</th>\n",
       "      <th>x1</th>\n",
       "      <th>treatment</th>\n",
       "      <th>outcome</th>\n",
       "    </tr>\n",
       "  </thead>\n",
       "  <tbody>\n",
       "    <tr>\n",
       "      <th>0</th>\n",
       "      <td>1.764052</td>\n",
       "      <td>0.400157</td>\n",
       "      <td>0.0</td>\n",
       "      <td>0.552889</td>\n",
       "    </tr>\n",
       "    <tr>\n",
       "      <th>1</th>\n",
       "      <td>0.978738</td>\n",
       "      <td>2.240893</td>\n",
       "      <td>1.0</td>\n",
       "      <td>1.616194</td>\n",
       "    </tr>\n",
       "    <tr>\n",
       "      <th>2</th>\n",
       "      <td>1.867558</td>\n",
       "      <td>-0.977278</td>\n",
       "      <td>1.0</td>\n",
       "      <td>0.184873</td>\n",
       "    </tr>\n",
       "    <tr>\n",
       "      <th>3</th>\n",
       "      <td>0.950088</td>\n",
       "      <td>-0.151357</td>\n",
       "      <td>1.0</td>\n",
       "      <td>0.414339</td>\n",
       "    </tr>\n",
       "    <tr>\n",
       "      <th>4</th>\n",
       "      <td>-0.103219</td>\n",
       "      <td>0.410599</td>\n",
       "      <td>1.0</td>\n",
       "      <td>0.484655</td>\n",
       "    </tr>\n",
       "  </tbody>\n",
       "</table>\n",
       "</div>"
      ],
      "text/plain": [
       "         x0        x1  treatment   outcome\n",
       "0  1.764052  0.400157        0.0  0.552889\n",
       "1  0.978738  2.240893        1.0  1.616194\n",
       "2  1.867558 -0.977278        1.0  0.184873\n",
       "3  0.950088 -0.151357        1.0  0.414339\n",
       "4 -0.103219  0.410599        1.0  0.484655"
      ]
     },
     "execution_count": 2,
     "metadata": {},
     "output_type": "execute_result"
    }
   ],
   "source": [
    "N = 10000\n",
    "np.random.seed(0)\n",
    "X = np.random.randn(N, 2)\n",
    "Z = np.random.randint(0, 2, (N,))\n",
    "Y = 0.2 * X[:, 0] + 0.5 * X[:, 1] + 0.3 * Z\n",
    "print('estimate of E[Y|Z = 1] - E[Y|Z = 0] = ', Y[Z.astype(np.bool)].mean() - Y[~Z.astype(np.bool)].mean())\n",
    "\n",
    "covariates = ['x0', 'x1']\n",
    "treatment = 'treatment'\n",
    "outcome = 'outcome'\n",
    "label = covariates + [treatment, outcome]\n",
    "df = pd.DataFrame(np.c_[X, Z, Y], columns=label)\n",
    "df.head()"
   ]
  },
  {
   "cell_type": "code",
   "execution_count": 3,
   "id": "71860818-4702-4186-860c-4526d502026b",
   "metadata": {},
   "outputs": [
    {
     "data": {
      "image/png": "[encoded data removed]",
      "text/plain": [
       "<Figure size 432x288 with 1 Axes>"
      ]
     },
     "metadata": {},
     "output_type": "display_data"
    }
   ],
   "source": [
    "model = CausalModel(data=df, treatment='treatment', outcome='outcome', common_causes=covariates, instruments=None, effect_modifiers=None)\n",
    "model.view_model()"
   ]
  },
  {
   "cell_type": "code",
   "execution_count": 9,
   "id": "6bba7866-d16a-4e95-a96d-bd1771659c81",
   "metadata": {},
   "outputs": [],
   "source": [
    "train_data, test_data = train_test_split(df, test_size=0.2)\n",
    "\n",
    "X_tr, Z_tr, Y_tr = train_data[covariates], train_data[treatment], train_data[outcome]\n",
    "causal_forest = CausalForestDML(\n",
    "    criterion='het',\n",
    "    n_estimators=10000,\n",
    "    min_samples_leaf=10,\n",
    "    max_depth=None,\n",
    "    max_samples=0.5,  # Q?: なぞ\n",
    "    discrete_treatment=False,  # Q?: なぞ\n",
    "    honest=True,  # Q?: Causal Treeを使うのですべてhonestでは？なぜわざわざ指定するオプションがある?\n",
    "    inference=True,  # Q?: 推論しないなら何すんねん\n",
    "    cv=10,\n",
    "    model_t=LassoCV(),\n",
    "    model_y=LassoCV()\n",
    ")\n",
    "\n",
    "causal_forest.fit(Y_tr, Z_tr, X=X_tr, W=None)  # Q?: Wがなぞ"
   ]
  },
  {
   "cell_type": "code",
   "execution_count": 10,
   "id": "7fd8ca6e-39c2-4b53-9124-181f7ffce46d",
   "metadata": {},
   "outputs": [
    {
     "data": {
      "image/png": "[encoded data removed]",
      "text/latex": [
       "$\\displaystyle 0.300048583451991$"
      ],
      "text/plain": [
       "0.3000485834519909"
      ]
     },
     "execution_count": 10,
     "metadata": {},
     "output_type": "execute_result"
    }
   ],
   "source": [
    "causal_forest.const_marginal_ate(test_data[covariates])"
   ]
  },
  {
   "cell_type": "code",
   "execution_count": null,
   "id": "1afc0ff0-84d5-4143-a80f-6ba8ecefc62e",
   "metadata": {},
   "outputs": [],
   "source": []
  }
 ],
 "metadata": {
  "kernelspec": {
   "display_name": "Python 3",
   "language": "python",
   "name": "python3"
  },
  "language_info": {
   "codemirror_mode": {
    "name": "ipython",
    "version": 3
   },
   "file_extension": ".py",
   "mimetype": "text/x-python",
   "name": "python",
   "nbconvert_exporter": "python",
   "pygments_lexer": "ipython3",
   "version": "3.6.13"
  }
 },
 "nbformat": 4,
 "nbformat_minor": 5
}
