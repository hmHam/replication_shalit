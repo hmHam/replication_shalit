{
 "cells": [
  {
   "cell_type": "code",
   "execution_count": 1,
   "id": "8c5ed4aa-cafd-487a-852f-f82d1892d81e",
   "metadata": {},
   "outputs": [],
   "source": [
    "import pandas as pd\n",
    "import numpy as np\n",
    "from load_data import IHDP_Dataset\n",
    "from model import CFR\n",
    "from optimize import MMD\n",
    "\n",
    "import torch\n",
    "from torch.utils.data import DataLoader\n",
    "from torch.optim import Adam"
   ]
  },
  {
   "cell_type": "code",
   "execution_count": 2,
   "id": "bd1dc809-a210-4d93-afd0-74b259f81e40",
   "metadata": {},
   "outputs": [
    {
     "data": {
      "text/plain": [
       "21"
      ]
     },
     "execution_count": 2,
     "metadata": {},
     "output_type": "execute_result"
    }
   ],
   "source": [
    "# データの読み込み\n",
    "train_D = IHDP_Dataset(train=True)\n",
    "train_loader = DataLoader(train_D, batch_size=32, shuffle=True)\n",
    "len(train_loader)"
   ]
  },
  {
   "cell_type": "code",
   "execution_count": 8,
   "id": "e74722e1-91e8-4de0-adbd-20cd81713047",
   "metadata": {},
   "outputs": [],
   "source": [
    "class MMD(torch.nn.Module):\n",
    "    '''emprical MMD\n",
    "    '''\n",
    "    def __init__(self):\n",
    "        super().__init__()\n",
    "        \n",
    "    def forward(self, X, Y, sigma=10):\n",
    "        # ガウスカーネルを採用する。\n",
    "        # | x_i - x_j |^2 = x_i^T x_i + x_j^T x_j - 2x_i^T x_j\n",
    "        # の値を算出する\n",
    "        print(Y.shape)\n",
    "        xx, xy, yy = torch.mm(X, X.T), torch.mm(X, Y.T), torch.mm(Y, Y.T)\n",
    "        expand_diag_xx = xx.diag().expand_as(xx)\n",
    "        expand_diag_yy = yy.diag().expand_as(yy)\n",
    "        \n",
    "        dxx = expand_diag_xx.T + expand_diag_xx - 2 * xx\n",
    "        print(expand_diag_xx.T.shape)\n",
    "        print(expand_diag_yy.shape)\n",
    "        dxy = expand_diag_xx.T + expand_diag_yy - 2 * xy\n",
    "        dyy = expand_diag_yy.T + expand_diag_yy - 2 * yy\n",
    "        \n",
    "        XX = torch.exp(-0.5*dxx/sigma)\n",
    "        XY = torch.exp(-0.5*dxy/sigma)\n",
    "        YY = torch.exp(-0.5*dyy/sigma)\n",
    "        return torch.mean(XX + YY - 2 * XY)"
   ]
  },
  {
   "cell_type": "code",
   "execution_count": 9,
   "id": "5bb1fa63-ab7c-4ffd-ab3f-1771a4760bfe",
   "metadata": {},
   "outputs": [
    {
     "name": "stdout",
     "output_type": "stream",
     "text": [
      "torch.Size([6, 200])\n",
      "torch.Size([26, 26])\n",
      "torch.Size([6, 6])\n"
     ]
    },
    {
     "ename": "RuntimeError",
     "evalue": "The size of tensor a (26) must match the size of tensor b (6) at non-singleton dimension 1",
     "output_type": "error",
     "traceback": [
      "\u001b[0;31m---------------------------------------------------------------------------\u001b[0m",
      "\u001b[0;31mRuntimeError\u001b[0m                              Traceback (most recent call last)",
      "\u001b[0;32m<ipython-input-9-4aed897ed34e>\u001b[0m in \u001b[0;36m<module>\u001b[0;34m\u001b[0m\n\u001b[1;32m     21\u001b[0m     \u001b[0mcontrol_idx\u001b[0m \u001b[0;34m=\u001b[0m \u001b[0mtorch\u001b[0m\u001b[0;34m.\u001b[0m\u001b[0mwhere\u001b[0m\u001b[0;34m(\u001b[0m\u001b[0mt_batch\u001b[0m \u001b[0;34m==\u001b[0m \u001b[0;36m0\u001b[0m\u001b[0;34m)\u001b[0m\u001b[0;34m\u001b[0m\u001b[0;34m\u001b[0m\u001b[0m\n\u001b[1;32m     22\u001b[0m     \u001b[0;31m# NOTE: Wassersteinを使うときはこの行を変更する。\u001b[0m\u001b[0;34m\u001b[0m\u001b[0;34m\u001b[0m\u001b[0;34m\u001b[0m\u001b[0m\n\u001b[0;32m---> 23\u001b[0;31m     \u001b[0mipm_term\u001b[0m \u001b[0;34m=\u001b[0m \u001b[0malpha\u001b[0m \u001b[0;34m*\u001b[0m \u001b[0mmmd\u001b[0m\u001b[0;34m(\u001b[0m\u001b[0mr_batch\u001b[0m\u001b[0;34m[\u001b[0m\u001b[0mcontrol_idx\u001b[0m\u001b[0;34m]\u001b[0m\u001b[0;34m,\u001b[0m \u001b[0mr_batch\u001b[0m\u001b[0;34m[\u001b[0m\u001b[0mtreat_idx\u001b[0m\u001b[0;34m]\u001b[0m\u001b[0;34m)\u001b[0m\u001b[0;34m\u001b[0m\u001b[0;34m\u001b[0m\u001b[0m\n\u001b[0m\u001b[1;32m     24\u001b[0m     \u001b[0mg1\u001b[0m \u001b[0;34m=\u001b[0m \u001b[0mipm_term\u001b[0m\u001b[0;34m.\u001b[0m\u001b[0mbackward\u001b[0m\u001b[0;34m(\u001b[0m\u001b[0;34m)\u001b[0m\u001b[0;34m\u001b[0m\u001b[0;34m\u001b[0m\u001b[0m\n\u001b[1;32m     25\u001b[0m \u001b[0;34m\u001b[0m\u001b[0m\n",
      "\u001b[0;32m~/anaconda3/envs/replication_shalit/lib/python3.6/site-packages/torch/nn/modules/module.py\u001b[0m in \u001b[0;36m__call__\u001b[0;34m(self, *input, **kwargs)\u001b[0m\n\u001b[1;32m    548\u001b[0m             \u001b[0mresult\u001b[0m \u001b[0;34m=\u001b[0m \u001b[0mself\u001b[0m\u001b[0;34m.\u001b[0m\u001b[0m_slow_forward\u001b[0m\u001b[0;34m(\u001b[0m\u001b[0;34m*\u001b[0m\u001b[0minput\u001b[0m\u001b[0;34m,\u001b[0m \u001b[0;34m**\u001b[0m\u001b[0mkwargs\u001b[0m\u001b[0;34m)\u001b[0m\u001b[0;34m\u001b[0m\u001b[0;34m\u001b[0m\u001b[0m\n\u001b[1;32m    549\u001b[0m         \u001b[0;32melse\u001b[0m\u001b[0;34m:\u001b[0m\u001b[0;34m\u001b[0m\u001b[0;34m\u001b[0m\u001b[0m\n\u001b[0;32m--> 550\u001b[0;31m             \u001b[0mresult\u001b[0m \u001b[0;34m=\u001b[0m \u001b[0mself\u001b[0m\u001b[0;34m.\u001b[0m\u001b[0mforward\u001b[0m\u001b[0;34m(\u001b[0m\u001b[0;34m*\u001b[0m\u001b[0minput\u001b[0m\u001b[0;34m,\u001b[0m \u001b[0;34m**\u001b[0m\u001b[0mkwargs\u001b[0m\u001b[0;34m)\u001b[0m\u001b[0;34m\u001b[0m\u001b[0;34m\u001b[0m\u001b[0m\n\u001b[0m\u001b[1;32m    551\u001b[0m         \u001b[0;32mfor\u001b[0m \u001b[0mhook\u001b[0m \u001b[0;32min\u001b[0m \u001b[0mself\u001b[0m\u001b[0;34m.\u001b[0m\u001b[0m_forward_hooks\u001b[0m\u001b[0;34m.\u001b[0m\u001b[0mvalues\u001b[0m\u001b[0;34m(\u001b[0m\u001b[0;34m)\u001b[0m\u001b[0;34m:\u001b[0m\u001b[0;34m\u001b[0m\u001b[0;34m\u001b[0m\u001b[0m\n\u001b[1;32m    552\u001b[0m             \u001b[0mhook_result\u001b[0m \u001b[0;34m=\u001b[0m \u001b[0mhook\u001b[0m\u001b[0;34m(\u001b[0m\u001b[0mself\u001b[0m\u001b[0;34m,\u001b[0m \u001b[0minput\u001b[0m\u001b[0;34m,\u001b[0m \u001b[0mresult\u001b[0m\u001b[0;34m)\u001b[0m\u001b[0;34m\u001b[0m\u001b[0;34m\u001b[0m\u001b[0m\n",
      "\u001b[0;32m<ipython-input-8-2ceb0ce14c77>\u001b[0m in \u001b[0;36mforward\u001b[0;34m(self, X, Y, sigma)\u001b[0m\n\u001b[1;32m     17\u001b[0m         \u001b[0mprint\u001b[0m\u001b[0;34m(\u001b[0m\u001b[0mexpand_diag_xx\u001b[0m\u001b[0;34m.\u001b[0m\u001b[0mT\u001b[0m\u001b[0;34m.\u001b[0m\u001b[0mshape\u001b[0m\u001b[0;34m)\u001b[0m\u001b[0;34m\u001b[0m\u001b[0;34m\u001b[0m\u001b[0m\n\u001b[1;32m     18\u001b[0m         \u001b[0mprint\u001b[0m\u001b[0;34m(\u001b[0m\u001b[0mexpand_diag_yy\u001b[0m\u001b[0;34m.\u001b[0m\u001b[0mshape\u001b[0m\u001b[0;34m)\u001b[0m\u001b[0;34m\u001b[0m\u001b[0;34m\u001b[0m\u001b[0m\n\u001b[0;32m---> 19\u001b[0;31m         \u001b[0mdxy\u001b[0m \u001b[0;34m=\u001b[0m \u001b[0mexpand_diag_xx\u001b[0m\u001b[0;34m.\u001b[0m\u001b[0mT\u001b[0m \u001b[0;34m+\u001b[0m \u001b[0mexpand_diag_yy\u001b[0m \u001b[0;34m-\u001b[0m \u001b[0;36m2\u001b[0m \u001b[0;34m*\u001b[0m \u001b[0mxy\u001b[0m\u001b[0;34m\u001b[0m\u001b[0;34m\u001b[0m\u001b[0m\n\u001b[0m\u001b[1;32m     20\u001b[0m         \u001b[0mdyy\u001b[0m \u001b[0;34m=\u001b[0m \u001b[0mexpand_diag_yy\u001b[0m\u001b[0;34m.\u001b[0m\u001b[0mT\u001b[0m \u001b[0;34m+\u001b[0m \u001b[0mexpand_diag_yy\u001b[0m \u001b[0;34m-\u001b[0m \u001b[0;36m2\u001b[0m \u001b[0;34m*\u001b[0m \u001b[0myy\u001b[0m\u001b[0;34m\u001b[0m\u001b[0;34m\u001b[0m\u001b[0m\n\u001b[1;32m     21\u001b[0m \u001b[0;34m\u001b[0m\u001b[0m\n",
      "\u001b[0;31mRuntimeError\u001b[0m: The size of tensor a (26) must match the size of tensor b (6) at non-singleton dimension 1"
     ]
    }
   ],
   "source": [
    "# 訓練\n",
    "ETA = 1e-2\n",
    "alpha = 0.1\n",
    "\n",
    "net = CFR(feature_dim=train_D.x.shape[1])\n",
    "optimizer_w = Adam(net.representation.parameters(), lr=ETA)\n",
    "optimizer_v = Adam(net.hypothesis.parameters(), lr=ETA, weight_decay=0.9)\n",
    "\n",
    "mmd = MMD()\n",
    "mse = torch.nn.MSELoss()\n",
    "\n",
    "torch.random.manual_seed(0)\n",
    "for batch in train_loader:\n",
    "    optimizer_w.zero_grad()\n",
    "    optimizer_v.zero_grad()\n",
    "    x_batch, t_batch = batch['x'], batch['t']\n",
    "    r_batch, y_hat_batch = net(x_batch, t_batch)\n",
    "    \n",
    "    # IPM項の勾配\n",
    "    treat_idx = torch.where(t_batch == 1)\n",
    "    control_idx = torch.where(t_batch == 0)\n",
    "    # NOTE: Wassersteinを使うときはこの行を変更する。\n",
    "    # FIXME: 介入群と統制群のサンプル数が一致せずエラーが起きている。\n",
    "    #        -> MMDの計算の実装の行列の和をとる部分において、形が一致せずエラー\n",
    "    #        -> デザイン行列は、(n, d)?それとも(d, n)\n",
    "    ipm_term = alpha * mmd(r_batch[control_idx], r_batch[treat_idx])\n",
    "    ipm_term.backward()\n",
    "        \n",
    "    # FIXME: 重み係数行列をLに乗算する必要がある。\n",
    "    L = mse(y_hat_batch, batch['yf'])\n",
    "    L.backward()\n",
    "    optimizer_w.step()\n",
    "    optimizer_v.step()"
   ]
  },
  {
   "cell_type": "code",
   "execution_count": null,
   "id": "b3ba831e-4e61-4b85-b090-544ade673177",
   "metadata": {},
   "outputs": [],
   "source": []
  }
 ],
 "metadata": {
  "kernelspec": {
   "display_name": "Python 3",
   "language": "python",
   "name": "python3"
  },
  "language_info": {
   "codemirror_mode": {
    "name": "ipython",
    "version": 3
   },
   "file_extension": ".py",
   "mimetype": "text/x-python",
   "name": "python",
   "nbconvert_exporter": "python",
   "pygments_lexer": "ipython3",
   "version": "3.6.13"
  }
 },
 "nbformat": 4,
 "nbformat_minor": 5
}
