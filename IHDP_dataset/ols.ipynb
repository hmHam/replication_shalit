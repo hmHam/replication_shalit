{
 "cells": [
  {
   "cell_type": "code",
   "execution_count": 1,
   "id": "2812261c-39b7-460c-8a2d-5d49bf9bfc7b",
   "metadata": {},
   "outputs": [],
   "source": [
    "from load_data import IHDP_Dataset\n",
    "import numpy as np\n",
    "import torch\n",
    "from sklearn.linear_model import LinearRegression"
   ]
  },
  {
   "cell_type": "code",
   "execution_count": 4,
   "id": "8be0e825-9989-4ab3-9593-6bcc7317abf9",
   "metadata": {},
   "outputs": [],
   "source": [
    "# データの読み込み\n",
    "ihdp_train_D = IHDP_Dataset(train=True, mono=True)\n",
    "ihdp_test_D = train_D = IHDP_Dataset(train=False, mono=True)\n",
    "ate_true = torch.mean(ihdp_test_D.mu1 - ihdp_test_D.mu0)"
   ]
  },
  {
   "cell_type": "code",
   "execution_count": 7,
   "id": "b6271637-a95a-41cc-9ff2-fe3bee3f1051",
   "metadata": {},
   "outputs": [],
   "source": [
    "# OLSによる因果効果の生成式を推定\n",
    "X_train = ihdp_train_D.x\n",
    "feature_train = torch.stack([X_train[:, 0], X_train[:, 1], ihdp_train_D.t.float()], axis=1)\n",
    "reg = LinearRegression()\n",
    "reg.fit(feature_train, ihdp_train_D.yf)\n",
    "\n",
    "# 結果の評価\n",
    "def f_treat(X, N):\n",
    "    '''^f(x, 1)を算出'''\n",
    "    feature_treat = torch.stack([X[:, 0], X[:, 1], torch.ones(N)], axis=1)\n",
    "    return torch.from_numpy(reg.predict(feature_treat))\n",
    "\n",
    "def f_control(X, N):\n",
    "    '''^f(x, 0)を算出'''\n",
    "    feature_control = torch.stack([X[:, 0], X[:, 1], torch.zeros(N)], axis=1)\n",
    "    return torch.from_numpy(reg.predict(feature_control))\n",
    "\n",
    "def loss_pehe(y_treat_hat, y_control_hat, mu1, mu0):\n",
    "    effect_hat = y_treat_hat - y_control_hat  # 効果の推定量\n",
    "    effect_true = mu1 - mu0  # 真の効果\n",
    "    return torch.sqrt(torch.mean((effect_hat - effect_true)**2))\n",
    "\n",
    "def loss_ate(y_treat_hat, y_control_hat, mu1, mu0):\n",
    "    effect_hat = y_treat_hat - y_control_hat  # 効果の推定量\n",
    "    effect_true = mu1 - mu0  # 真の効果\n",
    "    ate_hat = torch.mean(effect_hat)  # ATEの推定量\n",
    "    ate_true = torch.mean(effect_true)  # 真のATE\n",
    "    return torch.abs(ate_hat - ate_true)"
   ]
  },
  {
   "cell_type": "code",
   "execution_count": 8,
   "id": "745227ad-d351-4e7b-9d61-d30212bb7883",
   "metadata": {},
   "outputs": [],
   "source": [
    "def evaluation(D, fname):\n",
    "    # potential outcomeの推定\n",
    "    y_treat_hat = f_treat(D.x, D.N)\n",
    "    y_control_hat = f_control(D.x, D.N)\n",
    "\n",
    "    # \\epsilon_{PEHE}を算出\n",
    "    pehe = loss_pehe(y_treat_hat, y_control_hat, D.mu1, D.mu0)\n",
    "\n",
    "    # \\epsilon_{ATE}を算出\n",
    "    ate_error = loss_ate(y_treat_hat, y_control_hat, D.mu1, D.mu0)\n",
    "\n",
    "    # 結果の表示\n",
    "    print('pehe = ', pehe.item())\n",
    "    print('error of ate =', ate_error.item())\n",
    "\n",
    "    # 結果の保存\n",
    "    torch.save({\n",
    "        'X_test': D.x,\n",
    "        'pehe': pehe,\n",
    "        'ate_error': ate_error,\n",
    "    }, fname)"
   ]
  },
  {
   "cell_type": "code",
   "execution_count": 11,
   "id": "36c364e9-9eda-4d04-bec9-1c29ba692fa4",
   "metadata": {},
   "outputs": [
    {
     "name": "stdout",
     "output_type": "stream",
     "text": [
      "pehe =  0.8659573793411255\n",
      "error of ate = 0.00019025802612304688\n"
     ]
    }
   ],
   "source": [
    "# within sample(WS)での推定誤差の評価\n",
    "evaluation(ihdp_train_D, 'results/ols_WS.pt')"
   ]
  },
  {
   "cell_type": "code",
   "execution_count": 12,
   "id": "93862688-64c9-400a-8276-046030b4755d",
   "metadata": {},
   "outputs": [
    {
     "name": "stdout",
     "output_type": "stream",
     "text": [
      "pehe =  0.7958115339279175\n",
      "error of ate = 0.044965267181396484\n"
     ]
    }
   ],
   "source": [
    "# out of sample(OoS)での推定誤差を評価\n",
    "evaluation(ihdp_test_D, 'results/ols_OoS.pt')"
   ]
  },
  {
   "cell_type": "code",
   "execution_count": null,
   "id": "28b2a720-7f59-492b-916c-3b8d480a2a1d",
   "metadata": {},
   "outputs": [],
   "source": []
  }
 ],
 "metadata": {
  "kernelspec": {
   "display_name": "Python 3",
   "language": "python",
   "name": "python3"
  },
  "language_info": {
   "codemirror_mode": {
    "name": "ipython",
    "version": 3
   },
   "file_extension": ".py",
   "mimetype": "text/x-python",
   "name": "python",
   "nbconvert_exporter": "python",
   "pygments_lexer": "ipython3",
   "version": "3.6.13"
  }
 },
 "nbformat": 4,
 "nbformat_minor": 5
}
