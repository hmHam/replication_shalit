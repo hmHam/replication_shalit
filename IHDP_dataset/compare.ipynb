{
 "cells": [
  {
   "cell_type": "code",
   "execution_count": 1,
   "id": "7b85bf68-a0c6-4f8c-aa78-baaec39ef726",
   "metadata": {},
   "outputs": [],
   "source": [
    "import torch\n",
    "header = ['pehe', 'ate_error']"
   ]
  },
  {
   "cell_type": "code",
   "execution_count": 2,
   "id": "74103cce-de43-4343-b800-258dab9d17de",
   "metadata": {},
   "outputs": [
    {
     "name": "stdout",
     "output_type": "stream",
     "text": [
      "pehe\n",
      "\t OLS(0.8659573793411255)\n",
      "\t C.FOR(0.5815477004277092)\n",
      "\t CFR(1.2341452836990356)\n",
      "ate_error\n",
      "\t OLS(0.00019025802612304688)\n",
      "\t C.FOR(0.15041796288156872)\n",
      "\t CFR(0.740464448928833)\n"
     ]
    }
   ],
   "source": [
    "# within sample\n",
    "bias_ols_ws = torch.load('results/ols_WS.pt')\n",
    "bias_causal_forest_ws = torch.load('results/causal_forest_WS.pt')\n",
    "bias_cfr_net_ws = torch.load('results/cfr_net_WS.pt')\n",
    "\n",
    "for h in header:\n",
    "    print(h)\n",
    "    for label, item in zip(['OLS', 'C.FOR', 'CFR'], [bias_ols_ws, bias_causal_forest_ws, bias_cfr_net_ws]):\n",
    "        print('\\t', f'{label}({item[h]})')"
   ]
  },
  {
   "cell_type": "code",
   "execution_count": 3,
   "id": "0f04c0cd-9d68-4be1-90ce-47563f9ef3a4",
   "metadata": {},
   "outputs": [
    {
     "name": "stdout",
     "output_type": "stream",
     "text": [
      "pehe\n",
      "\t OLS(0.7958115339279175)\n",
      "\t C.FOR(0.6078326950202498)\n",
      "\t CFR(1.2036503553390503)\n",
      "ate_error\n",
      "\t OLS(0.044965267181396484)\n",
      "\t C.FOR(0.20653365771842802)\n",
      "\t CFR(0.7848598957061768)\n"
     ]
    }
   ],
   "source": [
    "# Out of sample\n",
    "bias_ols_oos = torch.load('results/ols_OoS.pt')\n",
    "bias_causal_forest_oos = torch.load('results/causal_forest_OoS.pt')\n",
    "bias_cfr_net_oos = torch.load('results/cfr_net_OoS.pt')\n",
    "\n",
    "for h in header:\n",
    "    print(h)\n",
    "    for label, item in zip(['OLS', 'C.FOR', 'CFR'], [bias_ols_oos, bias_causal_forest_oos, bias_cfr_net_oos]):\n",
    "        print('\\t', f'{label}({item[h]})')"
   ]
  }
 ],
 "metadata": {
  "kernelspec": {
   "display_name": "Python 3",
   "language": "python",
   "name": "python3"
  },
  "language_info": {
   "codemirror_mode": {
    "name": "ipython",
    "version": 3
   },
   "file_extension": ".py",
   "mimetype": "text/x-python",
   "name": "python",
   "nbconvert_exporter": "python",
   "pygments_lexer": "ipython3",
   "version": "3.6.13"
  }
 },
 "nbformat": 4,
 "nbformat_minor": 5
}
