{
 "cells": [
  {
   "cell_type": "code",
   "execution_count": 19,
   "id": "8c5ed4aa-cafd-487a-852f-f82d1892d81e",
   "metadata": {},
   "outputs": [],
   "source": [
    "import pandas as pd\n",
    "import numpy as np\n",
    "from load_data import IHDP_Dataset\n",
    "from model import CFR\n",
    "\n",
    "import torch\n",
    "from torch.utils.data import DataLoader\n",
    "from torch.optim import Adam"
   ]
  },
  {
   "cell_type": "code",
   "execution_count": 2,
   "id": "bd1dc809-a210-4d93-afd0-74b259f81e40",
   "metadata": {},
   "outputs": [
    {
     "data": {
      "text/plain": [
       "21"
      ]
     },
     "execution_count": 2,
     "metadata": {},
     "output_type": "execute_result"
    }
   ],
   "source": [
    "# データの読み込み\n",
    "train_D = IHDP_Dataset(train=True)\n",
    "train_loader = DataLoader(train_D, batch_size=32, shuffle=True)\n",
    "len(train_loader)"
   ]
  },
  {
   "cell_type": "code",
   "execution_count": 18,
   "id": "5bb1fa63-ab7c-4ffd-ab3f-1771a4760bfe",
   "metadata": {},
   "outputs": [
    {
     "data": {
      "text/plain": [
       "True"
      ]
     },
     "execution_count": 18,
     "metadata": {},
     "output_type": "execute_result"
    }
   ],
   "source": [
    "# 訓練\n",
    "ETA = 1e-2\n",
    "net = CFR(feature_dim=train_D.x.shape[1])\n",
    "optimizer_w = Adam(net.representation.parameters(), lr=ETA)\n",
    "optimizer_v = Adam(net.hypothesis.parameters(), lr=ETA, weight_decay=0.9)\n",
    "\n",
    "torch.random.manual_seed(0)\n",
    "for batch in train_loader:\n",
    "    optimizer_w.zero_grad()\n",
    "    optimizer_v.zero_grad()\n",
    "    batch_out = net(batch['x'], batch['t'])\n",
    "    \n",
    "    # 損失の計算\n",
    "    \n",
    "    optimizer_w.step()\n",
    "    optimizer_v.step()"
   ]
  },
  {
   "cell_type": "code",
   "execution_count": null,
   "id": "d2a9c9d0-f6d6-4ff7-8c7f-b282f989149e",
   "metadata": {},
   "outputs": [],
   "source": []
  }
 ],
 "metadata": {
  "kernelspec": {
   "display_name": "Python 3",
   "language": "python",
   "name": "python3"
  },
  "language_info": {
   "codemirror_mode": {
    "name": "ipython",
    "version": 3
   },
   "file_extension": ".py",
   "mimetype": "text/x-python",
   "name": "python",
   "nbconvert_exporter": "python",
   "pygments_lexer": "ipython3",
   "version": "3.6.13"
  }
 },
 "nbformat": 4,
 "nbformat_minor": 5
}
