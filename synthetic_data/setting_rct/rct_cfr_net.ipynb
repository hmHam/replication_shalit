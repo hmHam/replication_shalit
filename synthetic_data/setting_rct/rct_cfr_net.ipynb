{
 "cells": [
  {
   "cell_type": "markdown",
   "id": "6ce33c62-ba36-48dc-8443-87029ba3c191",
   "metadata": {},
   "source": [
    "# RCT人工データ"
   ]
  },
  {
   "cell_type": "code",
   "execution_count": 1,
   "id": "07c7317c-6c24-4751-b725-5417ec906099",
   "metadata": {},
   "outputs": [],
   "source": [
    "import warnings\n",
    "warnings.filterwarnings('error')\n",
    "import pandas as pd\n",
    "import numpy as np\n",
    "from load_data import IHDP_Dataset, ArtificialData\n",
    "from model import CFR\n",
    "from optimize import MMD, train\n",
    "from matplotlib import pyplot as plt\n",
    "from dowhy import CausalModel\n",
    "\n",
    "import torch\n",
    "from torch.utils.data import DataLoader\n",
    "from econml.dml import CausalForestDML\n",
    "from sklearn.linear_model import LassoCV, LinearRegression\n",
    "from sklearn.model_selection import train_test_split"
   ]
  },
  {
   "cell_type": "markdown",
   "id": "46ce032c-910f-4356-aab8-39f303f53579",
   "metadata": {
    "tags": []
   },
   "source": [
    "### 人口データを用いた実験"
   ]
  },
  {
   "cell_type": "code",
   "execution_count": 2,
   "id": "929c36ef-e0a5-4f1d-82e5-4e4403e051cc",
   "metadata": {},
   "outputs": [],
   "source": [
    "# TODO: もう少し結果の見方を工夫する。可視化している結果が意味ない。\n",
    "def view_causality_data_and_result(D, net, losses, legend=True):\n",
    "    with torch.no_grad():\n",
    "        fig, (ax1, ax2, ax3) = plt.subplots(1, 3, figsize=(15, 3))\n",
    "\n",
    "#         ax1.set_title('potential outcomes')\n",
    "#         ax1.set_ylabel('$y$')\n",
    "#         ax1.set_xlabel('$x$')\n",
    "#         ax1.plot(D.X, D.mu0, label='$mu_0$', color='blue')\n",
    "#         ax1.plot(D.X, D.mu1, label='$mu_1$', color='orange')\n",
    "\n",
    "#         tau = D.mu1 - D.mu0\n",
    "#         N = D.X.shape[0]\n",
    "#         tau_hat = net(D.X, torch.ones(N))[1] - net(D.X, torch.zeros(N))[1]\n",
    "#         ax2.set_ylabel('effect')\n",
    "#         ax2.set_xlabel('$x$')\n",
    "#         ax2.set_title('ground vs estimate for effect')\n",
    "#         ax2.plot(D.X, tau, color='blue', label='ground')\n",
    "#         ax2.plot(D.X, tau_hat, color='orange', label='predict')\n",
    "\n",
    "        ax3.set_title('train loss')\n",
    "        ax3.set_ylabel('loss')\n",
    "        ax3.set_xlabel('steps')\n",
    "        ax3.plot(losses)\n",
    "        \n",
    "        if legend:\n",
    "            fig.legend()\n",
    "        fig.tight_layout()\n",
    "        plt.show()"
   ]
  },
  {
   "cell_type": "code",
   "execution_count": 3,
   "id": "e22d6c69-637b-41c6-8632-180833ee2d8f",
   "metadata": {},
   "outputs": [
    {
     "name": "stdout",
     "output_type": "stream",
     "text": [
      "shape check has been done.\n",
      "shape check has been done.\n"
     ]
    }
   ],
   "source": [
    "# データの読み込み\n",
    "ad_train_D = ArtificialData(mode=0, N=1000, seed=0)  # 訓練データ, mode=RCT, 定数効果\n",
    "ad_test_D = ArtificialData(mode=0, N=1000, seed=1)  # テストデータ, mode=RCT, 定数効果\n",
    "ate_true = torch.mean(ad_test_D.mu1 - ad_test_D.mu0)"
   ]
  },
  {
   "cell_type": "code",
   "execution_count": 5,
   "id": "7d3a800f-6229-486e-8d73-2e4d38bec03b",
   "metadata": {},
   "outputs": [
    {
     "data": {
      "image/png": "[encoded data removed]",
      "text/plain": [
       "<Figure size 1080x216 with 3 Axes>"
      ]
     },
     "metadata": {
      "needs_background": "light"
     },
     "output_type": "display_data"
    }
   ],
   "source": [
    "# CFR-NETの訓練\n",
    "train_loader = DataLoader(ad_train_D, batch_size=32, shuffle=True)\n",
    "cfr_net = CFR(feature_dim=2)\n",
    "# FIXME: 損失がうまく低下しない, 考えられる可能性\n",
    "#    1) 実装が間違っている。\n",
    "#    2) そもそも解けない問題を解いている。\n",
    "model, train_losses, _ = train(cfr_net, train_loader, learning_rate=1e-7, alpha=1, seed=100)\n",
    "view_causality_data_and_result(ad_train_D, model, train_losses, legend=False)"
   ]
  },
  {
   "cell_type": "code",
   "execution_count": 12,
   "id": "cbb83cb6-24eb-455d-ad59-26e734c0d439",
   "metadata": {},
   "outputs": [
    {
     "name": "stdout",
     "output_type": "stream",
     "text": [
      "ATE estimate of CFR-NET:  0.002824630355462432\n"
     ]
    }
   ],
   "source": [
    "# cfr netの\n",
    "N = ad_test_D.X.shape[0]\n",
    "estimate_cfr_net = torch.mean(cfr_net(ad_test_D.X, torch.ones(N))[1] - cfr_net(ad_test_D.X, torch.zeros(N))[1]).item()\n",
    "print('ATE estimate of CFR-NET: ', estimate_cfr_net)"
   ]
  },
  {
   "cell_type": "markdown",
   "id": "b461c73b-5a8e-4b93-b2f4-92259ceee68a",
   "metadata": {},
   "source": [
    "### Causal ForestによるITE, ATEの推定"
   ]
  },
  {
   "cell_type": "code",
   "execution_count": 6,
   "id": "162b5e3f-80b1-4094-b132-a4f8ba319f67",
   "metadata": {},
   "outputs": [
    {
     "data": {
      "text/plain": [
       "<econml.dml.causal_forest.CausalForestDML at 0x7f8e700759e8>"
      ]
     },
     "execution_count": 6,
     "metadata": {},
     "output_type": "execute_result"
    }
   ],
   "source": [
    "# causal forestの訓練\n",
    "covariates = ['x0', 'x1']\n",
    "treatment = 'treatment'\n",
    "outcome = 'yf'\n",
    "label = covariates + [treatment, outcome]\n",
    "df = pd.DataFrame(np.c_[ad_train_D.X, ad_train_D.t, ad_train_D.yf], columns=label)\n",
    "model = CausalModel(data=df, treatment=treatment, outcome=outcome, common_causes=covariates, instruments=None, effect_modifiers=None)\n",
    "# model.view_model()\n",
    "\n",
    "train_data, test_data = train_test_split(df, test_size=0.2)\n",
    "\n",
    "X_tr, Z_tr, Y_tr = train_data[covariates], train_data[treatment], train_data[outcome]\n",
    "causal_forest = CausalForestDML(\n",
    "    criterion='het',\n",
    "    n_estimators=10000,\n",
    "    min_samples_leaf=10,\n",
    "    max_depth=None,\n",
    "    max_samples=0.5,  # Q?: なぞ\n",
    "    discrete_treatment=False,  # Q?: なぞ\n",
    "    honest=True,  # Q?: Causal Treeを使うのですべてhonestでは？なぜわざわざ指定するオプションがある?\n",
    "    inference=True,  # Q?: 推論しないなら何すんねん\n",
    "    cv=10,\n",
    "    model_t=LassoCV(),\n",
    "    model_y=LassoCV()\n",
    ")\n",
    "causal_forest.fit(Y_tr, Z_tr, X=X_tr, W=None)  # Q?: Wがなぞ"
   ]
  },
  {
   "cell_type": "code",
   "execution_count": 1,
   "id": "69c40860-22ca-4d88-87ea-a69d53d58731",
   "metadata": {},
   "outputs": [
    {
     "ename": "NameError",
     "evalue": "name 'ad_test_D' is not defined",
     "output_type": "error",
     "traceback": [
      "\u001b[0;31m---------------------------------------------------------------------------\u001b[0m",
      "\u001b[0;31mNameError\u001b[0m                                 Traceback (most recent call last)",
      "\u001b[0;32m<ipython-input-1-1f2c10525ebf>\u001b[0m in \u001b[0;36m<module>\u001b[0;34m\u001b[0m\n\u001b[1;32m      1\u001b[0m \u001b[0;31m# causal forestのテスト\u001b[0m\u001b[0;34m\u001b[0m\u001b[0;34m\u001b[0m\u001b[0;34m\u001b[0m\u001b[0m\n\u001b[0;32m----> 2\u001b[0;31m \u001b[0mX_test\u001b[0m\u001b[0;34m,\u001b[0m \u001b[0mZ_test\u001b[0m\u001b[0;34m,\u001b[0m \u001b[0mYf_test\u001b[0m \u001b[0;34m=\u001b[0m \u001b[0mad_test_D\u001b[0m\u001b[0;34m.\u001b[0m\u001b[0mX\u001b[0m\u001b[0;34m,\u001b[0m \u001b[0mad_test_D\u001b[0m\u001b[0;34m.\u001b[0m\u001b[0mt\u001b[0m\u001b[0;34m,\u001b[0m \u001b[0mad_test_D\u001b[0m\u001b[0;34m.\u001b[0m\u001b[0myf\u001b[0m\u001b[0;34m\u001b[0m\u001b[0;34m\u001b[0m\u001b[0m\n\u001b[0m\u001b[1;32m      3\u001b[0m \u001b[0mdf\u001b[0m \u001b[0;34m=\u001b[0m \u001b[0mpd\u001b[0m\u001b[0;34m.\u001b[0m\u001b[0mDataFrame\u001b[0m\u001b[0;34m(\u001b[0m\u001b[0mnp\u001b[0m\u001b[0;34m.\u001b[0m\u001b[0mc_\u001b[0m\u001b[0;34m[\u001b[0m\u001b[0mX_test\u001b[0m\u001b[0;34m,\u001b[0m \u001b[0mZ_test\u001b[0m\u001b[0;34m,\u001b[0m \u001b[0mYf_test\u001b[0m\u001b[0;34m]\u001b[0m\u001b[0;34m,\u001b[0m \u001b[0mcolumns\u001b[0m\u001b[0;34m=\u001b[0m\u001b[0mlabel\u001b[0m\u001b[0;34m)\u001b[0m\u001b[0;34m\u001b[0m\u001b[0;34m\u001b[0m\u001b[0m\n\u001b[1;32m      4\u001b[0m \u001b[0;34m\u001b[0m\u001b[0m\n\u001b[1;32m      5\u001b[0m \u001b[0mestimate_causal_forest\u001b[0m \u001b[0;34m=\u001b[0m \u001b[0mcausal_forest\u001b[0m\u001b[0;34m.\u001b[0m\u001b[0mconst_marginal_ate\u001b[0m\u001b[0;34m(\u001b[0m\u001b[0mdf\u001b[0m\u001b[0;34m[\u001b[0m\u001b[0mcovariates\u001b[0m\u001b[0;34m]\u001b[0m\u001b[0;34m)\u001b[0m\u001b[0;34m\u001b[0m\u001b[0;34m\u001b[0m\u001b[0m\n",
      "\u001b[0;31mNameError\u001b[0m: name 'ad_test_D' is not defined"
     ]
    }
   ],
   "source": [
    "# causal forestのテスト\n",
    "X_test, Z_test, Yf_test = ad_test_D.X, ad_test_D.t, ad_test_D.yf\n",
    "df = pd.DataFrame(np.c_[X_test, Z_test, Yf_test], columns=label)\n",
    "\n",
    "estimate_causal_forest = causal_forest.const_marginal_ate(df[covariates])\n",
    "print('ATE Estimate of Causal Forest: ', estimate_causal_forest)\n",
    "\n",
    "print('ATE ERROR', \n",
    "print('PEHE = ', np.mean(causal_forest.effect(X=X_test, T1=Z_test, T0=1 - Z_test)**2)))"
   ]
  },
  {
   "cell_type": "code",
   "execution_count": 2,
   "id": "36b703ef-ff46-4273-b8fa-a1a09405f4c8",
   "metadata": {},
   "outputs": [
    {
     "ename": "NameError",
     "evalue": "name 'causal_forest' is not defined",
     "output_type": "error",
     "traceback": [
      "\u001b[0;31m---------------------------------------------------------------------------\u001b[0m",
      "\u001b[0;31mNameError\u001b[0m                                 Traceback (most recent call last)",
      "\u001b[0;32m<ipython-input-2-f517e85c2722>\u001b[0m in \u001b[0;36m<module>\u001b[0;34m\u001b[0m\n\u001b[0;32m----> 1\u001b[0;31m \u001b[0mcausal_forest\u001b[0m\u001b[0;34m.\u001b[0m\u001b[0meffect_inference\u001b[0m\u001b[0;34m(\u001b[0m\u001b[0mX\u001b[0m\u001b[0;34m=\u001b[0m\u001b[0mX_test\u001b[0m\u001b[0;34m,\u001b[0m \u001b[0mT1\u001b[0m\u001b[0;34m=\u001b[0m\u001b[0mZ_test\u001b[0m\u001b[0;34m)\u001b[0m\u001b[0;34m\u001b[0m\u001b[0;34m\u001b[0m\u001b[0m\n\u001b[0m",
      "\u001b[0;31mNameError\u001b[0m: name 'causal_forest' is not defined"
     ]
    }
   ],
   "source": [
    "causal_forest.effect_inference(X=X_test, T1=Z_test)"
   ]
  },
  {
   "cell_type": "code",
   "execution_count": 50,
   "id": "f6fa9f62-a2b4-46fe-9557-0e174d20ba4f",
   "metadata": {},
   "outputs": [
    {
     "name": "stdout",
     "output_type": "stream",
     "text": [
      "predict ate =  tensor(0.3000)\n",
      "error of ate 2.9802322387695312e-08\n"
     ]
    }
   ],
   "source": [
    "# OLSによるATEの推定\n",
    "X_train = torch.stack([ad_train_D.X[:, 0], ad_train_D.X[:, 1], ad_train_D.t.float()], axis=1)\n",
    "reg = LinearRegression()\n",
    "reg.fit(X_train, ad_train_D.yf)\n",
    "\n",
    "X_test_treat = torch.stack([ad_test_D.X[:, 0], ad_test_D.X[:, 1], torch.ones(ad_test_D.N)], axis=1)\n",
    "y_hat_treat = torch.from_numpy(reg.predict(X_test_treat))\n",
    "\n",
    "X_test_control = torch.stack([ad_test_D.X[:, 0], ad_test_D.X[:, 1], torch.zeros(ad_test_D.N)], axis=1)\n",
    "y_hat_control = torch.from_numpy(reg.predict(X_test_control))\n",
    "\n",
    "ate_hat = torch.mean(y_hat_treat - y_hat_control)\n",
    "print('predict ate = ', ate_hat)\n",
    "\n",
    "ate_error = torch.abs(ate_hat - ate_true).item()\n",
    "print('error of ate', ate_error)"
   ]
  },
  {
   "cell_type": "markdown",
   "id": "597d22db-1161-4ee9-b1bf-eaa62c58483c",
   "metadata": {},
   "source": [
    "### IHDPデータセットを用いた実験"
   ]
  },
  {
   "cell_type": "code",
   "execution_count": 1,
   "id": "25cbefa2-738a-4bdf-b962-ecb85c173bd8",
   "metadata": {},
   "outputs": [],
   "source": [
    "# # データの読み込み\n",
    "# train_D = IHDP_Dataset(train=True)\n",
    "# train_loader = DataLoader(train_D, batch_size=32, shuffle=True)\n",
    "# test_D = train_D = IHDP_Dataset(train=False)\n",
    "# print('number of batch: ', len(train_loader))\n",
    "# x = train_D.x\n",
    "# cfr_net = CFR(feature_dim=x.shape[1])\n",
    "# model, train_losses, _ = train(cfr_net, train_loader)\n",
    "# view_causality_data_and_result(train_D, model, train_losses, legend=False)"
   ]
  },
  {
   "cell_type": "code",
   "execution_count": null,
   "id": "754d7806-318b-4271-8075-17426225153b",
   "metadata": {},
   "outputs": [],
   "source": []
  }
 ],
 "metadata": {
  "kernelspec": {
   "display_name": "Python 3",
   "language": "python",
   "name": "python3"
  },
  "language_info": {
   "codemirror_mode": {
    "name": "ipython",
    "version": 3
   },
   "file_extension": ".py",
   "mimetype": "text/x-python",
   "name": "python",
   "nbconvert_exporter": "python",
   "pygments_lexer": "ipython3",
   "version": "3.6.13"
  }
 },
 "nbformat": 4,
 "nbformat_minor": 5
}
