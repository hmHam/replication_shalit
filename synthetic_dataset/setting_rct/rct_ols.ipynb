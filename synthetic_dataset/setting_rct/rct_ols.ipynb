{
 "cells": [
  {
   "cell_type": "code",
   "execution_count": 1,
   "id": "2812261c-39b7-460c-8a2d-5d49bf9bfc7b",
   "metadata": {},
   "outputs": [],
   "source": [
    "import numpy as np\n",
    "import torch\n",
    "from sklearn.linear_model import LinearRegression\n",
    "from load_data import ArtificialData"
   ]
  },
  {
   "cell_type": "code",
   "execution_count": 2,
   "id": "8be0e825-9989-4ab3-9593-6bcc7317abf9",
   "metadata": {},
   "outputs": [
    {
     "name": "stdout",
     "output_type": "stream",
     "text": [
      "shape check has been done.\n",
      "shape check has been done.\n"
     ]
    }
   ],
   "source": [
    "# データの読み込み\n",
    "ad_train_D = ArtificialData(mode=0, N=1000, seed=0)  # 訓練データ, mode=RCT, 定数効果\n",
    "ad_test_D = ArtificialData(mode=0, N=1000, seed=1)  # テストデータ, mode=RCT, 定数効果\n",
    "ate_true = torch.mean(ad_test_D.mu1 - ad_test_D.mu0)"
   ]
  },
  {
   "cell_type": "code",
   "execution_count": 3,
   "id": "b6271637-a95a-41cc-9ff2-fe3bee3f1051",
   "metadata": {},
   "outputs": [],
   "source": [
    " # OLSによる因果効果の生成式を推定\n",
    "X_train = ad_train_D.X\n",
    "feature_train = torch.stack([X_train[:, 0], X_train[:, 1], ad_train_D.t.float()], axis=1)\n",
    "reg = LinearRegression()\n",
    "reg.fit(feature_train, ad_train_D.yf)\n",
    "\n",
    "# 結果の評価\n",
    "def f_treat(X, N):\n",
    "    '''^f(x, 1)を算出'''\n",
    "    feature_treat = torch.stack([X[:, 0], X[:, 1], torch.ones(N)], axis=1)\n",
    "    return torch.from_numpy(reg.predict(feature_treat))\n",
    "\n",
    "def f_control(X, N):\n",
    "    '''^f(x, 0)を算出'''\n",
    "    feature_control = torch.stack([X[:, 0], X[:, 1], torch.zeros(N)], axis=1)\n",
    "    return torch.from_numpy(reg.predict(feature_control))\n",
    "\n",
    "def loss_pehe(y_treat_hat, y_control_hat, mu1, mu0):\n",
    "    effect_hat = y_treat_hat - y_control_hat  # 効果の推定量\n",
    "    effect_true = mu1 - mu0  # 真の効果\n",
    "    return torch.mean((effect_hat - effect_true)**2)\n",
    "\n",
    "def loss_ate(y_treat_hat, y_control_hat, mu1, mu0):\n",
    "    effect_hat = y_treat_hat - y_control_hat  # 効果の推定量\n",
    "    effect_true = mu1 - mu0  # 真の効果\n",
    "    ate_hat = torch.mean(effect_hat)  # ATEの推定量\n",
    "    ate_true = torch.mean(effect_true)  # 真のATE\n",
    "    return torch.abs(ate_hat - ate_true)"
   ]
  },
  {
   "cell_type": "code",
   "execution_count": 4,
   "id": "745227ad-d351-4e7b-9d61-d30212bb7883",
   "metadata": {},
   "outputs": [],
   "source": [
    "def evaluation(D, fname):\n",
    "    # potential outcomeの推定\n",
    "    y_treat_hat = f_treat(D.X, D.N)\n",
    "    y_control_hat = f_control(D.X, D.N)\n",
    "\n",
    "    # \\epsilon_{PEHE}を算出\n",
    "    pehe = loss_pehe(y_treat_hat, y_control_hat, D.mu1, D.mu0)\n",
    "\n",
    "    # \\epsilon_{ATE}を算出\n",
    "    ate_error = loss_ate(y_treat_hat, y_control_hat, D.mu1, D.mu0)\n",
    "\n",
    "    # 結果の表示\n",
    "    print('pehe = ', pehe.item())\n",
    "    print('error of ate =', ate_error.item())\n",
    "\n",
    "    # 結果の保存\n",
    "    torch.save({\n",
    "        'X_test': D.X,\n",
    "        'pehe': pehe,\n",
    "        'ate_error': ate_error,\n",
    "    }, fname)"
   ]
  },
  {
   "cell_type": "code",
   "execution_count": 5,
   "id": "36c364e9-9eda-4d04-bec9-1c29ba692fa4",
   "metadata": {},
   "outputs": [
    {
     "name": "stdout",
     "output_type": "stream",
     "text": [
      "pehe =  2.2390977147488528e-15\n",
      "error of ate = 2.9802322387695312e-08\n"
     ]
    }
   ],
   "source": [
    "# within sample(WS)での推定誤差の評価\n",
    "evaluation(ad_train_D, 'results/rct_ols_WS.pt')"
   ]
  },
  {
   "cell_type": "code",
   "execution_count": 6,
   "id": "93862688-64c9-400a-8276-046030b4755d",
   "metadata": {},
   "outputs": [
    {
     "name": "stdout",
     "output_type": "stream",
     "text": [
      "pehe =  2.438937986236323e-15\n",
      "error of ate = 2.9802322387695312e-08\n"
     ]
    }
   ],
   "source": [
    "# out of sample(OoS)での推定誤差を評価\n",
    "evaluation(ad_test_D, 'results/rct_ols_OoS.pt')"
   ]
  }
 ],
 "metadata": {
  "kernelspec": {
   "display_name": "Python 3",
   "language": "python",
   "name": "python3"
  },
  "language_info": {
   "codemirror_mode": {
    "name": "ipython",
    "version": 3
   },
   "file_extension": ".py",
   "mimetype": "text/x-python",
   "name": "python",
   "nbconvert_exporter": "python",
   "pygments_lexer": "ipython3",
   "version": "3.6.13"
  }
 },
 "nbformat": 4,
 "nbformat_minor": 5
}
