{
 "cells": [
  {
   "cell_type": "code",
   "execution_count": 4,
   "id": "7b85bf68-a0c6-4f8c-aa78-baaec39ef726",
   "metadata": {},
   "outputs": [],
   "source": [
    "import torch\n",
    "header = ['pehe', 'ate_error']"
   ]
  },
  {
   "cell_type": "code",
   "execution_count": 5,
   "id": "74103cce-de43-4343-b800-258dab9d17de",
   "metadata": {},
   "outputs": [
    {
     "name": "stdout",
     "output_type": "stream",
     "text": [
      "pehe\n",
      "\t OLS(2.2390977147488528e-15)\n",
      "\t C.FOR(1.360328161717765e-06)\n",
      "\t CFR(0.11916590481996536)\n",
      "ate_error\n",
      "\t OLS(2.9802322387695312e-08)\n",
      "\t C.FOR(0.000751482794199454)\n",
      "\t CFR(0.08486156165599823)\n"
     ]
    }
   ],
   "source": [
    "# within sample\n",
    "rct_ols_ws = torch.load('results/rct_ols_WS.pt')\n",
    "rct_causal_forest_ws = torch.load('results/rct_causal_forest_WS.pt')\n",
    "rct_cfr_net_ws = torch.load('results/rct_cfr_net_WS.pt')\n",
    "\n",
    "for h in header:\n",
    "    print(h)\n",
    "    for label, item in zip(['OLS', 'C.FOR', 'CFR'], [rct_ols_ws, rct_causal_forest_ws, rct_cfr_net_ws]):\n",
    "        print('\\t', f'{label}({item[h]})')"
   ]
  },
  {
   "cell_type": "code",
   "execution_count": 6,
   "id": "0f04c0cd-9d68-4be1-90ce-47563f9ef3a4",
   "metadata": {},
   "outputs": [
    {
     "name": "stdout",
     "output_type": "stream",
     "text": [
      "pehe\n",
      "\t OLS(2.438937986236323e-15)\n",
      "\t C.FOR(1.4130081008890856e-06)\n",
      "\t CFR(0.12174015492200851)\n",
      "ate_error\n",
      "\t OLS(2.9802322387695312e-08)\n",
      "\t C.FOR(0.0007625723996250167)\n",
      "\t CFR(0.08698306977748871)\n"
     ]
    }
   ],
   "source": [
    "# Out of sample\n",
    "rct_ols_oos = torch.load('results/rct_ols_OoS.pt')\n",
    "rct_causal_forest_oos = torch.load('results/rct_causal_forest_OoS.pt')\n",
    "rct_cfr_net_oos = torch.load('results/rct_cfr_net_OoS.pt')\n",
    "\n",
    "for h in header:\n",
    "    print(h)\n",
    "    for label, item in zip(['OLS', 'C.FOR', 'CFR'], [rct_ols_oos, rct_causal_forest_oos, rct_cfr_net_oos]):\n",
    "        print('\\t', f'{label}({item[h]})')"
   ]
  }
 ],
 "metadata": {
  "kernelspec": {
   "display_name": "Python 3",
   "language": "python",
   "name": "python3"
  },
  "language_info": {
   "codemirror_mode": {
    "name": "ipython",
    "version": 3
   },
   "file_extension": ".py",
   "mimetype": "text/x-python",
   "name": "python",
   "nbconvert_exporter": "python",
   "pygments_lexer": "ipython3",
   "version": "3.6.13"
  }
 },
 "nbformat": 4,
 "nbformat_minor": 5
}
