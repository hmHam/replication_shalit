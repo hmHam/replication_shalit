{
 "cells": [
  {
   "cell_type": "code",
   "execution_count": 1,
   "id": "6b9c7d1f-f929-4163-bd12-09847440b82b",
   "metadata": {},
   "outputs": [],
   "source": [
    "import pandas as pd\n",
    "import numpy as np\n",
    "from load_data import ArtificialData\n",
    "from dowhy import CausalModel\n",
    "\n",
    "import torch\n",
    "from econml.dml import CausalForestDML\n",
    "from sklearn.linear_model import LassoCV, LinearRegression\n",
    "from sklearn.model_selection import train_test_split"
   ]
  },
  {
   "cell_type": "code",
   "execution_count": 2,
   "id": "0ef930ac-a6ee-49ca-b28a-8305b67bb346",
   "metadata": {},
   "outputs": [
    {
     "name": "stdout",
     "output_type": "stream",
     "text": [
      "shape check has been done.\n",
      "shape check has been done.\n"
     ]
    }
   ],
   "source": [
    "# データの読み込み\n",
    "ad_train_D = ArtificialData(mode=0, N=1000, seed=0)  # 訓練データ, mode=RCT, 定数効果\n",
    "ad_test_D = ArtificialData(mode=0, N=1000, seed=1)  # テストデータ, mode=RCT, 定数効果\n",
    "ate_true = torch.mean(ad_test_D.mu1 - ad_test_D.mu0)"
   ]
  },
  {
   "cell_type": "markdown",
   "id": "8068bcbb-e750-4d55-8125-6915df5443f4",
   "metadata": {},
   "source": [
    "### Causal ForestによるITE, ATEの推定"
   ]
  },
  {
   "cell_type": "code",
   "execution_count": 3,
   "id": "d2034410-0950-4831-8431-c46532612bdd",
   "metadata": {},
   "outputs": [
    {
     "data": {
      "text/plain": [
       "<econml.dml.causal_forest.CausalForestDML at 0x7ff85477f908>"
      ]
     },
     "execution_count": 3,
     "metadata": {},
     "output_type": "execute_result"
    }
   ],
   "source": [
    "# causal forestの訓練\n",
    "covariates = ['x0', 'x1']\n",
    "treatment = 'treatment'\n",
    "outcome = 'yf'\n",
    "label = covariates + [treatment, outcome]\n",
    "df = pd.DataFrame(np.c_[ad_train_D.X, ad_train_D.t, ad_train_D.yf], columns=label)\n",
    "model = CausalModel(data=df, treatment=treatment, outcome=outcome, common_causes=covariates, instruments=None, effect_modifiers=None)\n",
    "# model.view_model()\n",
    "\n",
    "train_data, test_data = train_test_split(df, test_size=0.2)\n",
    "\n",
    "X_tr, Z_tr, Y_tr = train_data[covariates], train_data[treatment], train_data[outcome]\n",
    "causal_forest = CausalForestDML(\n",
    "    criterion='het',\n",
    "    n_estimators=10000,\n",
    "    min_samples_leaf=10,\n",
    "    max_depth=None,\n",
    "    max_samples=0.5,  # Q?: なぞ\n",
    "    discrete_treatment=False,  # Q?: なぞ\n",
    "    honest=True,  # Q?: Causal Treeを使うのですべてhonestでは？なぜわざわざ指定するオプションがある?\n",
    "    inference=True,  # Q?: 推論しないなら何すんねん\n",
    "    cv=10,\n",
    "    model_t=LassoCV(),\n",
    "    model_y=LassoCV()\n",
    ")\n",
    "causal_forest.fit(Y_tr, Z_tr, X=X_tr, W=None)  # Q?: Wがなぞ"
   ]
  },
  {
   "cell_type": "code",
   "execution_count": 4,
   "id": "03b7d5b6-5587-4f65-9a1b-b1eff4cc9ea1",
   "metadata": {},
   "outputs": [],
   "source": [
    "# Within Sample, Out of Sampleの評価で共通する手順\n",
    "\n",
    "def loss_pehe(X, mu1, mu0):\n",
    "    effect_hat = torch.from_numpy(causal_forest.effect(X=X, T1=torch.ones(X.shape[0]), T0=torch.zeros(X.shape[0])))  # 効果の推定量\n",
    "    effect_true = mu1 - mu0  # 真の効果\n",
    "    return torch.mean((effect_hat - effect_true)**2)\n",
    "\n",
    "def loss_ate(X, mu1, mu0):\n",
    "    effect_hat = torch.from_numpy(causal_forest.effect(X=X, T1=torch.ones(X.shape[0]), T0=torch.zeros(X.shape[0])))  # 効果の推定量\n",
    "    effect_true = mu1 - mu0  # 真の効果\n",
    "    ate_hat = torch.mean(effect_hat)  # ATEの推定量\n",
    "    ate_true = torch.mean(effect_true)  # 真のATE\n",
    "    return torch.abs(ate_hat - ate_true)\n",
    "\n",
    "def evaluation(D, fname):\n",
    "    # \\epsilon_{PEHE}を算出\n",
    "    pehe = loss_pehe(D.X, D.mu1, D.mu0)\n",
    "\n",
    "    # \\epsilon_{ATE}を算出\n",
    "    ate_error = loss_ate(D.X, D.mu1, D.mu0)\n",
    "\n",
    "    # 結果の表示\n",
    "    print('pehe = ', pehe.item())\n",
    "    print('error of ate =', ate_error.item())\n",
    "\n",
    "    # 結果の保存\n",
    "    torch.save({\n",
    "        'X_test': D.X,\n",
    "        'pehe': pehe,\n",
    "        'ate_error': ate_error,\n",
    "    }, fname)"
   ]
  },
  {
   "cell_type": "code",
   "execution_count": 5,
   "id": "f27a7c87-0adc-4ca7-bb22-b40b6061ed86",
   "metadata": {},
   "outputs": [
    {
     "name": "stdout",
     "output_type": "stream",
     "text": [
      "pehe =  1.360328161717765e-06\n",
      "error of ate = 0.000751482794199454\n"
     ]
    }
   ],
   "source": [
    "# Within Sample\n",
    "evaluation(ad_train_D, 'results/rct_causal_forest_WS.pt')"
   ]
  },
  {
   "cell_type": "code",
   "execution_count": 6,
   "id": "409d85e0-ebfa-4932-97f8-52bac4f734bc",
   "metadata": {},
   "outputs": [
    {
     "name": "stdout",
     "output_type": "stream",
     "text": [
      "pehe =  1.4130081008890856e-06\n",
      "error of ate = 0.0007625723996250167\n"
     ]
    }
   ],
   "source": [
    "# Out of Sample\n",
    "evaluation(ad_test_D, 'results/rct_causal_forest_OoS.pt')"
   ]
  },
  {
   "cell_type": "markdown",
   "id": "1b106784-7ba4-462e-b5da-01b791169ebd",
   "metadata": {},
   "source": [
    "### 疑問\n",
    "* `causal_forest.effect_inference(X=X_test, T1=Z_test)`をした時に帰ってくる`InferenceResults`オブジェクトが謎\n",
    "    * しかし、今は必要ないのでまた気になったら調べる。\n",
    "* model_y, model_tにLassoを用いているが, CausalTreeでそんなんあったけ？\n",
    "    * CausalTreeの内容がまだわかっていないようだな。理解し直しなさい。\n",
    "    * ITE予測の研究をしないならいらないかもしれないが、教養として\n",
    "* `causal_forest.marginal~`とかあるけど、何に関する周辺かをしてるのか, なぜしてるのかを理解してない。"
   ]
  }
 ],
 "metadata": {
  "kernelspec": {
   "display_name": "Python 3",
   "language": "python",
   "name": "python3"
  },
  "language_info": {
   "codemirror_mode": {
    "name": "ipython",
    "version": 3
   },
   "file_extension": ".py",
   "mimetype": "text/x-python",
   "name": "python",
   "nbconvert_exporter": "python",
   "pygments_lexer": "ipython3",
   "version": "3.6.13"
  }
 },
 "nbformat": 4,
 "nbformat_minor": 5
}
