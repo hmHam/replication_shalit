{
 "cells": [
  {
   "cell_type": "markdown",
   "id": "6ce33c62-ba36-48dc-8443-87029ba3c191",
   "metadata": {},
   "source": [
    "# セレクションバイアスを持つ人工データによるCFR_NETの動作検証"
   ]
  },
  {
   "cell_type": "code",
   "execution_count": 1,
   "id": "07c7317c-6c24-4751-b725-5417ec906099",
   "metadata": {},
   "outputs": [],
   "source": [
    "import warnings\n",
    "warnings.filterwarnings('error')\n",
    "import pandas as pd\n",
    "import numpy as np\n",
    "from load_data import ArtificialData\n",
    "from model import CFR\n",
    "from optimize import MMD, train\n",
    "from matplotlib import pyplot as plt\n",
    "from dowhy import CausalModel\n",
    "\n",
    "import torch\n",
    "from torch.utils.data import DataLoader\n",
    "from econml.dml import CausalForestDML\n",
    "from sklearn.linear_model import LassoCV, LinearRegression\n",
    "from sklearn.model_selection import train_test_split"
   ]
  },
  {
   "cell_type": "code",
   "execution_count": 2,
   "id": "929c36ef-e0a5-4f1d-82e5-4e4403e051cc",
   "metadata": {},
   "outputs": [],
   "source": [
    "# TODO: もう少し結果の見方を工夫する。可視化している結果が意味ない。\n",
    "def view_causality_data_and_result(D, net, losses, legend=True):\n",
    "    with torch.no_grad():\n",
    "        fig, (ax1, ax2, ax3) = plt.subplots(1, 3, figsize=(15, 3))\n",
    "\n",
    "#         ax1.set_title('potential outcomes')\n",
    "#         ax1.set_ylabel('$y$')\n",
    "#         ax1.set_xlabel('$x$')\n",
    "#         ax1.plot(D.X, D.mu0, label='$mu_0$', color='blue')\n",
    "#         ax1.plot(D.X, D.mu1, label='$mu_1$', color='orange')\n",
    "\n",
    "#         tau = D.mu1 - D.mu0\n",
    "#         N = D.X.shape[0]\n",
    "#         tau_hat = net(D.X, torch.ones(N))[1] - net(D.X, torch.zeros(N))[1]\n",
    "#         ax2.set_ylabel('effect')\n",
    "#         ax2.set_xlabel('$x$')\n",
    "#         ax2.set_title('ground vs estimate for effect')\n",
    "#         ax2.plot(D.X, tau, color='blue', label='ground')\n",
    "#         ax2.plot(D.X, tau_hat, color='orange', label='predict')\n",
    "\n",
    "        ax3.set_title('train loss')\n",
    "        ax3.set_ylabel('loss')\n",
    "        ax3.set_xlabel('steps')\n",
    "        ax3.plot(losses)\n",
    "        \n",
    "        if legend:\n",
    "            fig.legend()\n",
    "        fig.tight_layout()\n",
    "        plt.show()"
   ]
  },
  {
   "cell_type": "code",
   "execution_count": 3,
   "id": "e22d6c69-637b-41c6-8632-180833ee2d8f",
   "metadata": {},
   "outputs": [
    {
     "name": "stdout",
     "output_type": "stream",
     "text": [
      "shape check has been done.\n",
      "shape check has been done.\n"
     ]
    }
   ],
   "source": [
    "# データの読み込み\n",
    "ad_train_D = ArtificialData(mode=1, N=1000, seed=0)  # 訓練データ, mode=RCT, 定数効果\n",
    "ad_test_D = ArtificialData(mode=1, N=1000, seed=1)  # テストデータ, mode=RCT, 定数効果\n",
    "ate_true = torch.mean(ad_test_D.mu1 - ad_test_D.mu0)"
   ]
  },
  {
   "cell_type": "code",
   "execution_count": 24,
   "id": "7d3a800f-6229-486e-8d73-2e4d38bec03b",
   "metadata": {},
   "outputs": [
    {
     "data": {
      "image/png": "[encoded data removed]",
      "text/plain": [
       "<Figure size 1080x216 with 3 Axes>"
      ]
     },
     "metadata": {
      "needs_background": "light"
     },
     "output_type": "display_data"
    }
   ],
   "source": [
    "# CFR-NETの訓練\n",
    "train_loader = DataLoader(ad_train_D, batch_size=32, shuffle=True)\n",
    "cfr_net = CFR(feature_dim=2)\n",
    "# FIXME: 損失がうまく低下しない, 考えられる可能性\n",
    "#    1) 実装が間違っている。\n",
    "#    2) そもそも解けない問題を解いている。\n",
    "model, train_losses, _ = train(cfr_net, train_loader, learning_rate=1e-5, alpha=0.1, seed=100, epoch=100)\n",
    "view_causality_data_and_result(ad_train_D, model, train_losses, legend=False)"
   ]
  },
  {
   "cell_type": "code",
   "execution_count": 25,
   "id": "7f2006c3-799c-4556-acf3-f43d2193bb59",
   "metadata": {},
   "outputs": [],
   "source": [
    "# 結果の評価\n",
    "def f_treat(X, N):\n",
    "    '''^f(x, 1)を算出'''\n",
    "    return cfr_net(X, torch.ones(N))[1]\n",
    "\n",
    "\n",
    "def f_control(X, N):\n",
    "    '''^f(x, 0)を算出'''\n",
    "    return cfr_net(X, torch.zeros(N))[1]\n",
    "\n",
    "\n",
    "def loss_pehe(y_treat_hat, y_control_hat, mu1, mu0):\n",
    "    effect_hat = y_treat_hat - y_control_hat  # 効果の推定量\n",
    "    effect_true = mu1 - mu0  # 真の効果\n",
    "    return torch.sqrt(torch.mean((effect_hat - effect_true)**2))\n",
    "\n",
    "\n",
    "def loss_ate(y_treat_hat, y_control_hat, mu1, mu0):\n",
    "    effect_hat = y_treat_hat - y_control_hat  # 効果の推定量\n",
    "    effect_true = mu1 - mu0  # 真の効果\n",
    "    ate_hat = torch.mean(effect_hat)  # ATEの推定量\n",
    "    ate_true = torch.mean(effect_true)  # 真のATE\n",
    "    return torch.abs(ate_hat - ate_true)\n",
    "\n",
    "\n",
    "def evaluation(D, fname):\n",
    "    # potential outcomeの推定\n",
    "    y_treat_hat = f_treat(D.X, D.N)\n",
    "    y_control_hat = f_control(D.X, D.N)\n",
    "\n",
    "    # \\epsilon_{PEHE}を算出\n",
    "    pehe = loss_pehe(y_treat_hat, y_control_hat, D.mu1, D.mu0)\n",
    "\n",
    "    # \\epsilon_{ATE}を算出\n",
    "    ate_error = loss_ate(y_treat_hat, y_control_hat, D.mu1, D.mu0)\n",
    "\n",
    "    # 結果の表示\n",
    "    print('pehe = ', pehe.item())\n",
    "    print('error of ate =', ate_error.item())\n",
    "\n",
    "    # 結果の保存\n",
    "    torch.save({\n",
    "        'X_test': D.X,\n",
    "        'pehe': pehe,\n",
    "        'ate_error': ate_error,\n",
    "    }, fname)"
   ]
  },
  {
   "cell_type": "code",
   "execution_count": 26,
   "id": "cbb83cb6-24eb-455d-ad59-26e734c0d439",
   "metadata": {},
   "outputs": [
    {
     "name": "stdout",
     "output_type": "stream",
     "text": [
      "ATE estimate of CFR-NET:  0.3499414026737213\n"
     ]
    }
   ],
   "source": [
    "# Out of Sample\n",
    "N = ad_test_D.X.shape[0]\n",
    "estimate_cfr_net = torch.mean(cfr_net(ad_test_D.X, torch.ones(N))[1] - cfr_net(ad_test_D.X, torch.zeros(N))[1]).item()\n",
    "print('ATE estimate of CFR-NET: ', estimate_cfr_net)"
   ]
  },
  {
   "cell_type": "code",
   "execution_count": 27,
   "id": "035db3c0-dbfc-4423-a85f-f48eda4d7800",
   "metadata": {},
   "outputs": [
    {
     "name": "stdout",
     "output_type": "stream",
     "text": [
      "pehe =  0.13373525440692902\n",
      "error of ate = 0.046889275312423706\n"
     ]
    }
   ],
   "source": [
    "evaluation(ad_train_D, 'results/bias_cfr_net_WS.pt')"
   ]
  },
  {
   "cell_type": "code",
   "execution_count": 28,
   "id": "b6099165-da99-428d-8d57-3e0024bb527b",
   "metadata": {},
   "outputs": [
    {
     "name": "stdout",
     "output_type": "stream",
     "text": [
      "pehe =  0.13190263509750366\n",
      "error of ate = 0.04994139075279236\n"
     ]
    }
   ],
   "source": [
    "evaluation(ad_test_D, 'results/bias_cfr_net_OoS.pt')"
   ]
  },
  {
   "cell_type": "code",
   "execution_count": null,
   "id": "5ee4befc-b5e1-43f0-b9d0-e250d4da4805",
   "metadata": {},
   "outputs": [],
   "source": []
  }
 ],
 "metadata": {
  "kernelspec": {
   "display_name": "Python 3",
   "language": "python",
   "name": "python3"
  },
  "language_info": {
   "codemirror_mode": {
    "name": "ipython",
    "version": 3
   },
   "file_extension": ".py",
   "mimetype": "text/x-python",
   "name": "python",
   "nbconvert_exporter": "python",
   "pygments_lexer": "ipython3",
   "version": "3.6.13"
  }
 },
 "nbformat": 4,
 "nbformat_minor": 5
}
