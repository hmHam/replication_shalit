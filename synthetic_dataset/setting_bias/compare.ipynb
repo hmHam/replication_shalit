{
 "cells": [
  {
   "cell_type": "code",
   "execution_count": 4,
   "id": "7b85bf68-a0c6-4f8c-aa78-baaec39ef726",
   "metadata": {},
   "outputs": [],
   "source": [
    "import torch\n",
    "header = ['pehe', 'ate_error']"
   ]
  },
  {
   "cell_type": "code",
   "execution_count": 5,
   "id": "74103cce-de43-4343-b800-258dab9d17de",
   "metadata": {},
   "outputs": [
    {
     "name": "stdout",
     "output_type": "stream",
     "text": [
      "pehe\n",
      "\t OLS(1.5380135209852597e-07)\n",
      "\t C.FOR(0.00016469610128712787)\n",
      "\t CFR(0.13373525440692902)\n",
      "ate_error\n",
      "\t OLS(2.682209014892578e-07)\n",
      "\t C.FOR(4.658221521219863e-05)\n",
      "\t CFR(0.046889275312423706)\n"
     ]
    }
   ],
   "source": [
    "# within sample\n",
    "bias_ols_ws = torch.load('results/bias_ols_WS.pt')\n",
    "bias_causal_forest_ws = torch.load('results/bias_causal_forest_WS.pt')\n",
    "bias_cfr_net_ws = torch.load('results/bias_cfr_net_WS.pt')\n",
    "\n",
    "for h in header:\n",
    "    print(h)\n",
    "    for label, item in zip(['OLS', 'C.FOR', 'CFR'], [bias_ols_ws, bias_causal_forest_ws, bias_cfr_net_ws]):\n",
    "        print('\\t', f'{label}({item[h]})')"
   ]
  },
  {
   "cell_type": "code",
   "execution_count": 6,
   "id": "0f04c0cd-9d68-4be1-90ce-47563f9ef3a4",
   "metadata": {},
   "outputs": [
    {
     "name": "stdout",
     "output_type": "stream",
     "text": [
      "pehe\n",
      "\t OLS(1.552297703710792e-07)\n",
      "\t C.FOR(0.00016592519972581277)\n",
      "\t CFR(0.13190263509750366)\n",
      "ate_error\n",
      "\t OLS(2.682209014892578e-07)\n",
      "\t C.FOR(5.5581610195198916e-05)\n",
      "\t CFR(0.04994139075279236)\n"
     ]
    }
   ],
   "source": [
    "# Out of sample\n",
    "bias_ols_oos = torch.load('results/bias_ols_OoS.pt')\n",
    "bias_causal_forest_oos = torch.load('results/bias_causal_forest_OoS.pt')\n",
    "bias_cfr_net_oos = torch.load('results/bias_cfr_net_OoS.pt')\n",
    "\n",
    "for h in header:\n",
    "    print(h)\n",
    "    for label, item in zip(['OLS', 'C.FOR', 'CFR'], [bias_ols_oos, bias_causal_forest_oos, bias_cfr_net_oos]):\n",
    "        print('\\t', f'{label}({item[h]})')"
   ]
  },
  {
   "cell_type": "code",
   "execution_count": null,
   "id": "fbfbb827-0719-4696-8d2c-eb96c0cc4302",
   "metadata": {},
   "outputs": [],
   "source": []
  }
 ],
 "metadata": {
  "kernelspec": {
   "display_name": "Python 3",
   "language": "python",
   "name": "python3"
  },
  "language_info": {
   "codemirror_mode": {
    "name": "ipython",
    "version": 3
   },
   "file_extension": ".py",
   "mimetype": "text/x-python",
   "name": "python",
   "nbconvert_exporter": "python",
   "pygments_lexer": "ipython3",
   "version": "3.6.13"
  }
 },
 "nbformat": 4,
 "nbformat_minor": 5
}
